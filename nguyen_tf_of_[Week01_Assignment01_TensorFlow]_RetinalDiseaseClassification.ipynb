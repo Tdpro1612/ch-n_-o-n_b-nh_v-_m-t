{
  "nbformat": 4,
  "nbformat_minor": 0,
  "metadata": {
    "colab": {
      "name": "nguyen tf of [Week01_Assignment01_TensorFlow]_RetinalDiseaseClassification.ipynb",
      "provenance": [],
      "collapsed_sections": [
        "U_RFsb_cacFY",
        "QyA6LEduasVA",
        "X1roan-jcPYo",
        "4tqRG_2-er5M",
        "DJbtAIeHeCrT",
        "d7Oqc6Pbfnv3",
        "uxpNzGEJLmuB",
        "gRWSKx8OLmuE",
        "xNHyXU-iLmuF",
        "tzG2CGPNLmuQ",
        "xQ5-T4AULmuU",
        "QN3mRy1uvNAc",
        "FCM4Zm7dLmuX",
        "8hY_VRxrLmul",
        "s_ozLFddxile",
        "gD0QP-tYLmur",
        "VnQhFJlzLmut",
        "yzLlNFw-Lmuv",
        "8xVcc8r_Lmux",
        "PLK-IlbOLmuy",
        "p0rH97YnLmu2",
        "3lX7BhDTLmu5",
        "EsXWvg6CLmu9",
        "hONHxoruLmvA"
      ],
      "machine_shape": "hm"
    },
    "language_info": {
      "name": "python",
      "version": "3.6.4",
      "mimetype": "text/x-python",
      "codemirror_mode": {
        "name": "ipython",
        "version": 3
      },
      "pygments_lexer": "ipython3",
      "nbconvert_exporter": "python",
      "file_extension": ".py"
    },
    "kernelspec": {
      "name": "python3",
      "display_name": "Python 3"
    },
    "accelerator": "GPU"
  },
  "cells": [
    {
      "cell_type": "markdown",
      "metadata": {
        "id": "jAjK2oatpFLG"
      },
      "source": [
        "<table><tr><td><img src=\"data:image/png;base64,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\" alt=\"\" /></table></tr></td>"
      ]
    },
    {
      "cell_type": "markdown",
      "metadata": {
        "id": "TbFazecAFQKJ"
      },
      "source": [
        "#Week01 - Assignment01: Retinal Disease Classification (Tensorflow Vesrion)\n",
        "<hr>\n",
        "\n",
        "###@Class: Advanced Computer Vision\n",
        "###@Organize: VietAI\n",
        "###@Description: We are proceeding to build a CNN model that allows to diagnosis  retinal diseases.\n",
        "###@Pytorch Version: https://colab.research.google.com/drive/1nxsIiSiv_D7VYAC4SeKOYzkz9kTtx9kz\n",
        "\n",
        "<b>Student Infomation:</b>\n",
        "- Name: [your fullname]\n",
        "- Email: [your email]\n",
        "- Phone: [your phone]\n",
        "\n",
        "<hr>"
      ]
    },
    {
      "cell_type": "markdown",
      "metadata": {
        "id": "U_RFsb_cacFY"
      },
      "source": [
        "#Step 01: Setup Environment\n"
      ]
    },
    {
      "cell_type": "markdown",
      "metadata": {
        "id": "QyA6LEduasVA"
      },
      "source": [
        "##Check Colab GPU Information"
      ]
    },
    {
      "cell_type": "code",
      "metadata": {
        "id": "Q4brLgYDbFoa",
        "outputId": "1ceab10d-ccbd-4f25-d43e-f19656864b99",
        "colab": {
          "base_uri": "https://localhost:8080/",
          "height": 353
        }
      },
      "source": [
        "!nvidia-smi"
      ],
      "execution_count": null,
      "outputs": [
        {
          "output_type": "stream",
          "text": [
            "Thu Sep 10 06:55:18 2020       \n",
            "+-----------------------------------------------------------------------------+\n",
            "| NVIDIA-SMI 450.66       Driver Version: 418.67       CUDA Version: 10.1     |\n",
            "|-------------------------------+----------------------+----------------------+\n",
            "| GPU  Name        Persistence-M| Bus-Id        Disp.A | Volatile Uncorr. ECC |\n",
            "| Fan  Temp  Perf  Pwr:Usage/Cap|         Memory-Usage | GPU-Util  Compute M. |\n",
            "|                               |                      |               MIG M. |\n",
            "|===============================+======================+======================|\n",
            "|   0  Tesla P100-PCIE...  Off  | 00000000:00:04.0 Off |                    0 |\n",
            "| N/A   34C    P0    26W / 250W |      0MiB / 16280MiB |      0%      Default |\n",
            "|                               |                      |                 ERR! |\n",
            "+-------------------------------+----------------------+----------------------+\n",
            "                                                                               \n",
            "+-----------------------------------------------------------------------------+\n",
            "| Processes:                                                                  |\n",
            "|  GPU   GI   CI        PID   Type   Process name                  GPU Memory |\n",
            "|        ID   ID                                                   Usage      |\n",
            "|=============================================================================|\n",
            "|  No running processes found                                                 |\n",
            "+-----------------------------------------------------------------------------+\n"
          ],
          "name": "stdout"
        }
      ]
    },
    {
      "cell_type": "markdown",
      "metadata": {
        "id": "X1roan-jcPYo"
      },
      "source": [
        "##Connect to Google Drive\n",
        "You may be need store your own data later. Let Connect to Goole Drive for saving some necessary data.  "
      ]
    },
    {
      "cell_type": "code",
      "metadata": {
        "id": "fNruKWU0GFKF",
        "outputId": "f1982cce-5e26-4e56-b943-da03a9c1d90e",
        "colab": {
          "base_uri": "https://localhost:8080/",
          "height": 121
        }
      },
      "source": [
        "from google.colab import drive\n",
        "drive.mount('/content/drive')"
      ],
      "execution_count": null,
      "outputs": [
        {
          "output_type": "stream",
          "text": [
            "Go to this URL in a browser: https://accounts.google.com/o/oauth2/auth?client_id=947318989803-6bn6qk8qdgf4n4g3pfee6491hc0brc4i.apps.googleusercontent.com&redirect_uri=urn%3aietf%3awg%3aoauth%3a2.0%3aoob&scope=email%20https%3a%2f%2fwww.googleapis.com%2fauth%2fdocs.test%20https%3a%2f%2fwww.googleapis.com%2fauth%2fdrive%20https%3a%2f%2fwww.googleapis.com%2fauth%2fdrive.photos.readonly%20https%3a%2f%2fwww.googleapis.com%2fauth%2fpeopleapi.readonly&response_type=code\n",
            "\n",
            "Enter your authorization code:\n",
            "4/4AEZ6N8_ehAos15wBAptc4UM-ARZP-AqSYsRJspIhOio0oPvOqJXL7c\n",
            "Mounted at /content/drive\n"
          ],
          "name": "stdout"
        }
      ]
    },
    {
      "cell_type": "markdown",
      "metadata": {
        "id": "4tqRG_2-er5M"
      },
      "source": [
        "##Import and install all neccessary libraries\n"
      ]
    },
    {
      "cell_type": "code",
      "metadata": {
        "id": "NUs6p2SXfU3s",
        "outputId": "d7e73a8c-9941-469c-f504-a5fac98668dc",
        "colab": {
          "base_uri": "https://localhost:8080/",
          "height": 34
        }
      },
      "source": [
        "#Authentication and download file from Google Drive\n",
        "!pip install -U -q PyDrive\n",
        "from pydrive.auth import GoogleAuth\n",
        "from pydrive.drive import GoogleDrive\n",
        "from google.colab import auth\n",
        "from oauth2client.client import GoogleCredentials\n",
        "import zipfile\n",
        "\n",
        "import os\n",
        "import sys\n",
        "import numpy as np # linear algebra\n",
        "import pandas as pd # data processing, CSV file I/O (e.g. pd.read_csv)\n",
        "\n",
        "\n",
        "from sklearn.model_selection import train_test_split\n",
        "from sklearn.metrics import f1_score\n",
        "\n",
        "import tensorflow as tf\n",
        "import tensorflow.keras as keras\n",
        "\n",
        "from fastprogress import master_bar, progress_bar\n",
        "\n",
        "from PIL import Image\n",
        "\n",
        "# Enable Eager Execution\n",
        "#tf.enable_eager_execution() # No need use this, already enable with tf version >=2.0\n",
        "tf.executing_eagerly() "
      ],
      "execution_count": null,
      "outputs": [
        {
          "output_type": "execute_result",
          "data": {
            "text/plain": [
              "True"
            ]
          },
          "metadata": {
            "tags": []
          },
          "execution_count": 6
        }
      ]
    },
    {
      "cell_type": "markdown",
      "metadata": {
        "id": "DJbtAIeHeCrT"
      },
      "source": [
        "#Step 02: Reparing Retinal Disease Dataset"
      ]
    },
    {
      "cell_type": "markdown",
      "metadata": {
        "id": "d7Oqc6Pbfnv3"
      },
      "source": [
        "##Download retinal disease dataset"
      ]
    },
    {
      "cell_type": "code",
      "metadata": {
        "id": "xVZ1LcKlfmkd",
        "outputId": "79b37289-f76b-4716-984b-fb06ca776ad0",
        "colab": {
          "base_uri": "https://localhost:8080/",
          "height": 67
        }
      },
      "source": [
        "#Restore all data from Google Drive to virtual Colab machine with File ID\n",
        "zip_id = '1Nl4rhnP_22dJc_mbWvc4mv3e9Kmsv5JU' \n",
        "auth.authenticate_user()\n",
        "gauth = GoogleAuth()\n",
        "gauth.credentials = GoogleCredentials.get_application_default()\n",
        "drive = GoogleDrive(gauth)\n",
        "\n",
        "print (\"Downloading vietai_advance_w1b_retinal_disease_classificaton.zip ...\")\n",
        "myzip = drive.CreateFile({'id': zip_id})\n",
        "myzip.GetContentFile('vietai_advance_w1b_retinal_disease_classificaton.zip')\n",
        "\n",
        "print (\"Uncompressing vietai_advance_w1b_retinal_disease_classificaton.zip ...\")\n",
        "if not os.path.exists('retina_dataset'):\n",
        "    os.makedirs('retina_dataset')\n",
        "zip_ref = zipfile.ZipFile('vietai_advance_w1b_retinal_disease_classificaton.zip', 'r')\n",
        "zip_ref.extractall('retina_dataset')\n",
        "zip_ref.close()\n",
        "os.remove(\"vietai_advance_w1b_retinal_disease_classificaton.zip\")\n",
        "\n",
        "os.listdir(\"retina_dataset\")"
      ],
      "execution_count": null,
      "outputs": [
        {
          "output_type": "stream",
          "text": [
            "Downloading vietai_advance_w1b_retinal_disease_classificaton.zip ...\n",
            "Uncompressing vietai_advance_w1b_retinal_disease_classificaton.zip ...\n"
          ],
          "name": "stdout"
        },
        {
          "output_type": "execute_result",
          "data": {
            "text/plain": [
              "['train', 'baseline_model', 'sample_submission.csv', 'train.csv', 'test']"
            ]
          },
          "metadata": {
            "tags": []
          },
          "execution_count": 8
        }
      ]
    },
    {
      "cell_type": "markdown",
      "metadata": {
        "id": "uxpNzGEJLmuB"
      },
      "source": [
        "## Read dataset"
      ]
    },
    {
      "cell_type": "code",
      "metadata": {
        "_cell_guid": "79c7e3d0-c299-4dcb-8224-4455121ee9b0",
        "_uuid": "d629ff2d2480ee46fbb7e2d37f6b5fab8052498a",
        "trusted": true,
        "id": "876Pm72jLmuC",
        "outputId": "4a75a20a-29ce-44c0-f6b3-f690050e2025",
        "colab": {
          "base_uri": "https://localhost:8080/",
          "height": 195
        }
      },
      "source": [
        "data = pd.read_csv(\"retina_dataset/train.csv\")\n",
        "data.head()"
      ],
      "execution_count": null,
      "outputs": [
        {
          "output_type": "execute_result",
          "data": {
            "text/html": [
              "<div>\n",
              "<style scoped>\n",
              "    .dataframe tbody tr th:only-of-type {\n",
              "        vertical-align: middle;\n",
              "    }\n",
              "\n",
              "    .dataframe tbody tr th {\n",
              "        vertical-align: top;\n",
              "    }\n",
              "\n",
              "    .dataframe thead th {\n",
              "        text-align: right;\n",
              "    }\n",
              "</style>\n",
              "<table border=\"1\" class=\"dataframe\">\n",
              "  <thead>\n",
              "    <tr style=\"text-align: right;\">\n",
              "      <th></th>\n",
              "      <th>filename</th>\n",
              "      <th>opacity</th>\n",
              "      <th>diabetic retinopathy</th>\n",
              "      <th>glaucoma</th>\n",
              "      <th>macular edema</th>\n",
              "      <th>macular degeneration</th>\n",
              "      <th>retinal vascular occlusion</th>\n",
              "      <th>normal</th>\n",
              "    </tr>\n",
              "  </thead>\n",
              "  <tbody>\n",
              "    <tr>\n",
              "      <th>0</th>\n",
              "      <td>c24a1b14d253.jpg</td>\n",
              "      <td>0</td>\n",
              "      <td>0</td>\n",
              "      <td>0</td>\n",
              "      <td>0</td>\n",
              "      <td>0</td>\n",
              "      <td>1</td>\n",
              "      <td>0</td>\n",
              "    </tr>\n",
              "    <tr>\n",
              "      <th>1</th>\n",
              "      <td>9ee905a41651.jpg</td>\n",
              "      <td>0</td>\n",
              "      <td>0</td>\n",
              "      <td>0</td>\n",
              "      <td>0</td>\n",
              "      <td>0</td>\n",
              "      <td>1</td>\n",
              "      <td>0</td>\n",
              "    </tr>\n",
              "    <tr>\n",
              "      <th>2</th>\n",
              "      <td>3f58d128caf6.jpg</td>\n",
              "      <td>0</td>\n",
              "      <td>0</td>\n",
              "      <td>1</td>\n",
              "      <td>0</td>\n",
              "      <td>0</td>\n",
              "      <td>0</td>\n",
              "      <td>0</td>\n",
              "    </tr>\n",
              "    <tr>\n",
              "      <th>3</th>\n",
              "      <td>4ce6599e7b20.jpg</td>\n",
              "      <td>1</td>\n",
              "      <td>0</td>\n",
              "      <td>0</td>\n",
              "      <td>0</td>\n",
              "      <td>1</td>\n",
              "      <td>0</td>\n",
              "      <td>0</td>\n",
              "    </tr>\n",
              "    <tr>\n",
              "      <th>4</th>\n",
              "      <td>0def470360e4.jpg</td>\n",
              "      <td>1</td>\n",
              "      <td>0</td>\n",
              "      <td>0</td>\n",
              "      <td>0</td>\n",
              "      <td>1</td>\n",
              "      <td>0</td>\n",
              "      <td>0</td>\n",
              "    </tr>\n",
              "  </tbody>\n",
              "</table>\n",
              "</div>"
            ],
            "text/plain": [
              "           filename  opacity  ...  retinal vascular occlusion  normal\n",
              "0  c24a1b14d253.jpg        0  ...                           1       0\n",
              "1  9ee905a41651.jpg        0  ...                           1       0\n",
              "2  3f58d128caf6.jpg        0  ...                           0       0\n",
              "3  4ce6599e7b20.jpg        1  ...                           0       0\n",
              "4  0def470360e4.jpg        1  ...                           0       0\n",
              "\n",
              "[5 rows x 8 columns]"
            ]
          },
          "metadata": {
            "tags": []
          },
          "execution_count": 9
        }
      ]
    },
    {
      "cell_type": "markdown",
      "metadata": {
        "id": "gRWSKx8OLmuE"
      },
      "source": [
        "## Data analyzing"
      ]
    },
    {
      "cell_type": "markdown",
      "metadata": {
        "id": "xNHyXU-iLmuF"
      },
      "source": [
        "###Analyze distribution of 0 and 1 for each label"
      ]
    },
    {
      "cell_type": "code",
      "metadata": {
        "trusted": true,
        "id": "qXKsgwNtLmuF",
        "outputId": "0c222504-b060-45d2-a9b4-88b2f8ba7e1d",
        "colab": {
          "base_uri": "https://localhost:8080/",
          "height": 487
        }
      },
      "source": [
        "for label in data.columns[1:]:\n",
        "    print(\"Distribution of\", label)\n",
        "    print(data[label].value_counts())"
      ],
      "execution_count": null,
      "outputs": [
        {
          "output_type": "stream",
          "text": [
            "Distribution of opacity\n",
            "0    1902\n",
            "1    1533\n",
            "Name: opacity, dtype: int64\n",
            "Distribution of diabetic retinopathy\n",
            "0    2680\n",
            "1     755\n",
            "Name: diabetic retinopathy, dtype: int64\n",
            "Distribution of glaucoma\n",
            "0    2838\n",
            "1     597\n",
            "Name: glaucoma, dtype: int64\n",
            "Distribution of macular edema\n",
            "0    2919\n",
            "1     516\n",
            "Name: macular edema, dtype: int64\n",
            "Distribution of macular degeneration\n",
            "0    2861\n",
            "1     574\n",
            "Name: macular degeneration, dtype: int64\n",
            "Distribution of retinal vascular occlusion\n",
            "0    2995\n",
            "1     440\n",
            "Name: retinal vascular occlusion, dtype: int64\n",
            "Distribution of normal\n",
            "0    2910\n",
            "1     525\n",
            "Name: normal, dtype: int64\n"
          ],
          "name": "stdout"
        }
      ]
    },
    {
      "cell_type": "markdown",
      "metadata": {
        "id": "kzaqVVvZLmuI"
      },
      "source": [
        "As can be observed, the number of label 0 is much more larger than label 1"
      ]
    },
    {
      "cell_type": "markdown",
      "metadata": {
        "id": "KDEYCX-mLmuJ"
      },
      "source": [
        "### Analyze combination of classes"
      ]
    },
    {
      "cell_type": "code",
      "metadata": {
        "trusted": true,
        "id": "E6SzzxeXLmuJ",
        "outputId": "d51f9d1f-dd76-4255-ab84-3a698049bdfb",
        "colab": {
          "base_uri": "https://localhost:8080/",
          "height": 638
        }
      },
      "source": [
        "LABELS = data.columns[1:]\n",
        "def build_label(row):\n",
        "    return \",\".join([LABELS[idx] for idx, val in enumerate(row[1:]) if val == 1])\n",
        "        \n",
        "data.apply(lambda x: build_label(x), axis=1).value_counts()"
      ],
      "execution_count": null,
      "outputs": [
        {
          "output_type": "execute_result",
          "data": {
            "text/plain": [
              "opacity                                                                  671\n",
              "normal                                                                   525\n",
              "glaucoma                                                                 327\n",
              "macular degeneration                                                     299\n",
              "diabetic retinopathy                                                     212\n",
              "opacity,macular degeneration                                             212\n",
              "opacity,diabetic retinopathy                                             186\n",
              "retinal vascular occlusion                                               170\n",
              "diabetic retinopathy,macular edema                                       162\n",
              "opacity,diabetic retinopathy,macular edema                               154\n",
              "opacity,glaucoma                                                         140\n",
              "macular edema,retinal vascular occlusion                                  74\n",
              "opacity,macular edema,retinal vascular occlusion                          62\n",
              "opacity,retinal vascular occlusion                                        55\n",
              "glaucoma,macular degeneration                                             31\n",
              "macular edema                                                             27\n",
              "glaucoma,retinal vascular occlusion                                       27\n",
              "opacity,glaucoma,macular degeneration                                     16\n",
              "diabetic retinopathy,glaucoma                                             15\n",
              "glaucoma,macular edema,retinal vascular occlusion                         14\n",
              "opacity,glaucoma,retinal vascular occlusion                               10\n",
              "opacity,glaucoma,macular edema,retinal vascular occlusion                  8\n",
              "diabetic retinopathy,retinal vascular occlusion                            5\n",
              "opacity,diabetic retinopathy,macular degeneration                          5\n",
              "opacity,diabetic retinopathy,retinal vascular occlusion                    4\n",
              "opacity,macular degeneration,retinal vascular occlusion                    3\n",
              "glaucoma,macular edema                                                     3\n",
              "diabetic retinopathy,glaucoma,macular edema                                3\n",
              "diabetic retinopathy,macular degeneration                                  2\n",
              "diabetic retinopathy,macular edema,retinal vascular occlusion              2\n",
              "opacity,diabetic retinopathy,macular edema,retinal vascular occlusion      2\n",
              "glaucoma,macular degeneration,retinal vascular occlusion                   2\n",
              "opacity,macular edema                                                      2\n",
              "macular degeneration,retinal vascular occlusion                            2\n",
              "opacity,diabetic retinopathy,macular edema,macular degeneration            2\n",
              "opacity,diabetic retinopathy,glaucoma,macular edema                        1\n",
              "dtype: int64"
            ]
          },
          "metadata": {
            "tags": []
          },
          "execution_count": 11
        }
      ]
    },
    {
      "cell_type": "code",
      "metadata": {
        "trusted": true,
        "id": "eCoz3oH8LmuM",
        "outputId": "6979f42d-3526-472d-a4c8-ac67a6a6c9f0",
        "colab": {
          "base_uri": "https://localhost:8080/",
          "height": 67
        }
      },
      "source": [
        "LABELS"
      ],
      "execution_count": null,
      "outputs": [
        {
          "output_type": "execute_result",
          "data": {
            "text/plain": [
              "Index(['opacity', 'diabetic retinopathy', 'glaucoma', 'macular edema',\n",
              "       'macular degeneration', 'retinal vascular occlusion', 'normal'],\n",
              "      dtype='object')"
            ]
          },
          "metadata": {
            "tags": []
          },
          "execution_count": 12
        }
      ]
    },
    {
      "cell_type": "markdown",
      "metadata": {
        "id": "zIo2x7qkLmuP"
      },
      "source": [
        "As we can see, **opacity**, **normal** and **glaucoma** are diseases that share largest proportions in label distribution. The other diseases or combinations just account for small pieces."
      ]
    },
    {
      "cell_type": "markdown",
      "metadata": {
        "id": "pVCn3Li3LmuQ"
      },
      "source": [
        "## Observations on the dataset\n",
        "The dataset provided is extremely imbalanced. In this baseline model, by simply train the model the original dataset, we will easily get overfitting on the training set and the score on the test set is very low. With the proposed methods below, you will tweak the training process and improve the metric score on the test set:\n",
        "- **Image Augmentation**: By augmenting images, we will have more data and make the training set become more regularize. [imgaug](https://github.com/aleju/imgaug) is a very strong augmentation library that you can use in this assignment\n",
        "- **Data sampling**: the idea here is to make the distribution between classes in the dataset balance. There are 2 kinds: oversampling and undersampling\n",
        "- **Adjust loss function**: the current loss function becomes very small after several epochs. By adding weights, we adjust the loss function to make it suitable for this imbalanced dataset. You can check the [BCEWithLogitsLoss](https://pytorch.org/docs/stable/nn.html#bcewithlogitsloss) and try applying it.\n",
        "- **To simplify the baseline model, the dataset is splited randomly. However, to improve the model, cross-validation techniques can be applied here**"
      ]
    },
    {
      "cell_type": "markdown",
      "metadata": {
        "id": "tzG2CGPNLmuQ"
      },
      "source": [
        "## Split the dataset\n",
        "*For* the data provided, we will split the dataset to 80% for training and 20% for validation"
      ]
    },
    {
      "cell_type": "code",
      "metadata": {
        "trusted": true,
        "id": "_gNpteQFLmuS"
      },
      "source": [
        "train_data, val_data = train_test_split(data, test_size=0.1, random_state=101)"
      ],
      "execution_count": null,
      "outputs": []
    },
    {
      "cell_type": "markdown",
      "metadata": {
        "id": "xQ5-T4AULmuU"
      },
      "source": [
        "#Step 03: Build Baseline Model\n",
        "In this notebook, we will use Pytorch library to implement and train ResNet50 as a baseline model. With initial weights from ImageNet, we will retrain all layers for this problem."
      ]
    },
    {
      "cell_type": "markdown",
      "metadata": {
        "id": "QN3mRy1uvNAc"
      },
      "source": [
        "## Set some neccessary hyperparamaters"
      ]
    },
    {
      "cell_type": "code",
      "metadata": {
        "trusted": true,
        "id": "HAUZTBnTLmuV"
      },
      "source": [
        "IMAGE_SIZE = 224                              # Image size (224x224)\n",
        "IMAGENET_MEAN = [0.485, 0.456, 0.406]         # Mean of ImageNet dataset (used for normalization)\n",
        "IMAGENET_STD = [0.229, 0.224, 0.225]          # Std of ImageNet dataset (used for normalization)\n",
        "BATCH_SIZE = 64                             \n",
        "LEARNING_RATE = 0.001\n",
        "LEARNING_RATE_SCHEDULE_FACTOR = 0.1           # Parameter used for reducing learning rate\n",
        "LEARNING_RATE_SCHEDULE_PATIENCE = 5           # Parameter used for reducing learning rate\n",
        "MAX_EPOCHS = 100                              # Maximum number of training epochs"
      ],
      "execution_count": null,
      "outputs": []
    },
    {
      "cell_type": "markdown",
      "metadata": {
        "id": "FCM4Zm7dLmuX"
      },
      "source": [
        "## Implement Dataset loader\n",
        "In Keras, you can use `ImageDataGenerator` to feed image to the model. However, the supported augmentation of `ImageDataGenerator` is not enough, we can add more from another library in this `preprocessing_image` below"
      ]
    },
    {
      "cell_type": "code",
      "metadata": {
        "trusted": true,
        "id": "3O9SG4AWLmuX"
      },
      "source": [
        "def preprocessing_image(image):\n",
        "    \"\"\"\n",
        "    Preprocess image after resize and augment data with ImageDataGenerator\n",
        "    \n",
        "    Parameters\n",
        "    ----------\n",
        "    image: numpy tensor with rank 3\n",
        "        image to preprocessing\n",
        "    \n",
        "    Returns\n",
        "    -------\n",
        "    numpy tensor with rank 3\n",
        "    \"\"\"\n",
        "    # TODO: augment more here\n",
        "    \n",
        "    return image"
      ],
      "execution_count": null,
      "outputs": []
    },
    {
      "cell_type": "markdown",
      "metadata": {
        "id": "Y51egkFmLmuZ"
      },
      "source": [
        "Create data generator object"
      ]
    },
    {
      "cell_type": "code",
      "metadata": {
        "trusted": true,
        "id": "Z6rMwKxoLmua"
      },
      "source": [
        "train_datagen = keras.preprocessing.image.ImageDataGenerator(rescale=1./255,\n",
        "                                                             featurewise_center=True,\n",
        "                                                             featurewise_std_normalization=True,\n",
        "                                                             preprocessing_function=preprocessing_image)"
      ],
      "execution_count": null,
      "outputs": []
    },
    {
      "cell_type": "markdown",
      "metadata": {
        "id": "Cm1j8rw6Lmuc"
      },
      "source": [
        "`ImageDataGenerator` only accepts list of strings as label, we need to convert the label in the dataframe following that way"
      ]
    },
    {
      "cell_type": "code",
      "metadata": {
        "trusted": true,
        "id": "_DVkBLO4Lmuc",
        "outputId": "c2f0d76d-e009-4e30-a3e7-9c371ca4568a",
        "colab": {
          "base_uri": "https://localhost:8080/",
          "height": 218
        }
      },
      "source": [
        "def build_label_list(row):\n",
        "    return [LABELS[idx] for idx, val in enumerate(row[1:]) if val == 1]\n",
        "        \n",
        "train_data[\"label\"] = train_data.apply(lambda x: build_label_list(x), axis=1)\n",
        "val_data[\"label\"] = val_data.apply(lambda x: build_label_list(x), axis=1)"
      ],
      "execution_count": null,
      "outputs": [
        {
          "output_type": "stream",
          "text": [
            "/usr/local/lib/python3.6/dist-packages/ipykernel_launcher.py:4: SettingWithCopyWarning: \n",
            "A value is trying to be set on a copy of a slice from a DataFrame.\n",
            "Try using .loc[row_indexer,col_indexer] = value instead\n",
            "\n",
            "See the caveats in the documentation: https://pandas.pydata.org/pandas-docs/stable/user_guide/indexing.html#returning-a-view-versus-a-copy\n",
            "  after removing the cwd from sys.path.\n",
            "/usr/local/lib/python3.6/dist-packages/ipykernel_launcher.py:5: SettingWithCopyWarning: \n",
            "A value is trying to be set on a copy of a slice from a DataFrame.\n",
            "Try using .loc[row_indexer,col_indexer] = value instead\n",
            "\n",
            "See the caveats in the documentation: https://pandas.pydata.org/pandas-docs/stable/user_guide/indexing.html#returning-a-view-versus-a-copy\n",
            "  \"\"\"\n"
          ],
          "name": "stderr"
        }
      ]
    },
    {
      "cell_type": "markdown",
      "metadata": {
        "id": "4b9eo8i8Lmue"
      },
      "source": [
        "Create training generator"
      ]
    },
    {
      "cell_type": "code",
      "metadata": {
        "trusted": true,
        "id": "ftQ_jLJ9Lmuf",
        "outputId": "4a5f692b-d58b-4fc6-8b61-528d3dd8a9c4",
        "colab": {
          "base_uri": "https://localhost:8080/",
          "height": 34
        }
      },
      "source": [
        "train_gen = train_datagen.flow_from_dataframe(dataframe=train_data, \n",
        "                                        directory=\"retina_dataset/train/train\", \n",
        "                                        x_col=\"filename\", \n",
        "                                        y_col=\"label\",\n",
        "                                        class_mode=\"categorical\",\n",
        "                                        target_size=(IMAGE_SIZE,IMAGE_SIZE), \n",
        "                                        batch_size=BATCH_SIZE)"
      ],
      "execution_count": null,
      "outputs": [
        {
          "output_type": "stream",
          "text": [
            "Found 3091 validated image filenames belonging to 7 classes.\n"
          ],
          "name": "stdout"
        }
      ]
    },
    {
      "cell_type": "markdown",
      "metadata": {
        "id": "bojKIxytLmuh"
      },
      "source": [
        "We also need to create validation generator. Different from training generator, we don't shuffle the validation set"
      ]
    },
    {
      "cell_type": "code",
      "metadata": {
        "trusted": true,
        "id": "68aN2qykLmui",
        "outputId": "8e376169-1b32-4edc-b962-56d0555ecd05",
        "colab": {
          "base_uri": "https://localhost:8080/",
          "height": 34
        }
      },
      "source": [
        "val_gen = train_datagen.flow_from_dataframe(dataframe=val_data, \n",
        "                                        directory=\"retina_dataset/train/train\", \n",
        "                                        x_col=\"filename\", \n",
        "                                        y_col=\"label\",\n",
        "                                        class_mode=\"categorical\",\n",
        "                                        shuffle=False,\n",
        "                                        target_size=(IMAGE_SIZE,IMAGE_SIZE), \n",
        "                                        batch_size=BATCH_SIZE)"
      ],
      "execution_count": null,
      "outputs": [
        {
          "output_type": "stream",
          "text": [
            "Found 344 validated image filenames belonging to 7 classes.\n"
          ],
          "name": "stdout"
        }
      ]
    },
    {
      "cell_type": "markdown",
      "metadata": {
        "id": "8hY_VRxrLmul"
      },
      "source": [
        "## Define model\n",
        "In the baseline, we use ResNet50 pretrained on ImageNet dataset. The classifier of model would be replaced with a new dense layer to make the output suit the problem."
      ]
    },
    {
      "cell_type": "code",
      "metadata": {
        "trusted": true,
        "id": "Wfb6uYcmLmup"
      },
      "source": [
        "#base_model = keras.applications.ResNet50(input_shape=(IMAGE_SIZE,IMAGE_SIZE,3),\n",
        "                                    #include_top=False,\n",
        "                                   # weights='imagenet')\n",
        "#base_model.trainable = True\n",
        "\n",
        "#model = keras.Sequential([\n",
        " # base_model,\n",
        "  #keras.layers.GlobalAveragePooling2D(),\n",
        " # keras.layers.Dense(len(LABELS), activation='sigmoid')\n",
        "#])\n",
        "\n",
        "# Print out model summary\n",
        "#model.summary()"
      ],
      "execution_count": null,
      "outputs": []
    },
    {
      "cell_type": "code",
      "metadata": {
        "id": "NCbAezmVqXWi",
        "outputId": "ec668c26-19f6-4f95-cd0b-41e52304baae",
        "colab": {
          "base_uri": "https://localhost:8080/",
          "height": 252
        }
      },
      "source": [
        "base_model = tf.keras.applications.DenseNet121(\n",
        "    include_top=False,\n",
        "    weights=\"imagenet\",\n",
        "    input_shape=(IMAGE_SIZE,IMAGE_SIZE,3)\n",
        ")\n",
        "base_model.trainable = True\n",
        "\n",
        "model = keras.Sequential([base_model,keras.layers.GlobalAveragePooling2D(),keras.layers.Dense(len(LABELS), activation='sigmoid')])\n",
        "\n",
        "# Print out model summary\n",
        "model.summary()"
      ],
      "execution_count": null,
      "outputs": [
        {
          "output_type": "stream",
          "text": [
            "Model: \"sequential_3\"\n",
            "_________________________________________________________________\n",
            "Layer (type)                 Output Shape              Param #   \n",
            "=================================================================\n",
            "densenet121 (Functional)     (None, 7, 7, 1024)        7037504   \n",
            "_________________________________________________________________\n",
            "global_average_pooling2d (Gl (None, 1024)              0         \n",
            "_________________________________________________________________\n",
            "dense (Dense)                (None, 7)                 7175      \n",
            "=================================================================\n",
            "Total params: 7,044,679\n",
            "Trainable params: 6,961,031\n",
            "Non-trainable params: 83,648\n",
            "_________________________________________________________________\n"
          ],
          "name": "stdout"
        }
      ]
    },
    {
      "cell_type": "markdown",
      "metadata": {
        "id": "BLefUQzTLmuq"
      },
      "source": [
        "We need to train about 23 millions parameters"
      ]
    },
    {
      "cell_type": "markdown",
      "metadata": {
        "id": "s_ozLFddxile"
      },
      "source": [
        "#Step 04: Training Model"
      ]
    },
    {
      "cell_type": "markdown",
      "metadata": {
        "id": "gD0QP-tYLmur"
      },
      "source": [
        "## Define F1-score\n",
        "Keras recently removed the F1-score metric, we will implement it in the function below:"
      ]
    },
    {
      "cell_type": "code",
      "metadata": {
        "trusted": true,
        "id": "lfUp_CL5Lmur"
      },
      "source": [
        "import tensorflow.keras.backend as K\n",
        "\n",
        "def f1(y_true, y_pred):\n",
        "    def recall(y_true, y_pred):\n",
        "        \"\"\"Recall metric.\n",
        "\n",
        "        Only computes a batch-wise average of recall.\n",
        "\n",
        "        Computes the recall, a metric for multi-label classification of\n",
        "        how many relevant items are selected.\n",
        "        \"\"\"\n",
        "        true_positives = K.sum(K.round(K.clip(y_true * y_pred, 0, 1)))\n",
        "        possible_positives = K.sum(K.round(K.clip(y_true, 0, 1)))\n",
        "        recall = true_positives / (possible_positives + K.epsilon())\n",
        "        return recall\n",
        "\n",
        "    def precision(y_true, y_pred):\n",
        "        \"\"\"Precision metric.\n",
        "\n",
        "        Only computes a batch-wise average of precision.\n",
        "\n",
        "        Computes the precision, a metric for multi-label classification of\n",
        "        how many selected items are relevant.\n",
        "        \"\"\"\n",
        "        true_positives = K.sum(K.round(K.clip(y_true * y_pred, 0, 1)))\n",
        "        predicted_positives = K.sum(K.round(K.clip(y_pred, 0, 1)))\n",
        "        precision = true_positives / (predicted_positives + K.epsilon())\n",
        "        return precision\n",
        "    precision = precision(y_true, y_pred)\n",
        "    recall = recall(y_true, y_pred)\n",
        "    return 2*((precision*recall)/(precision+recall+K.epsilon()))"
      ],
      "execution_count": null,
      "outputs": []
    },
    {
      "cell_type": "markdown",
      "metadata": {
        "id": "VnQhFJlzLmut"
      },
      "source": [
        "## Define callbacks\n",
        "There are 2 callbacks we need to add to the training:\n",
        "- Saving the best model on validation set\n",
        "- Reduce learning rate during training"
      ]
    },
    {
      "cell_type": "code",
      "metadata": {
        "trusted": true,
        "id": "-EiuKMT2Lmut"
      },
      "source": [
        "mcp = keras.callbacks.ModelCheckpoint(\"densenet121.h5\", monitor=\"val_f1\", save_best_only=True, save_weights_only=True, verbose=1,mode='max')\n",
        "rlr = keras.callbacks.ReduceLROnPlateau(monitor='val_f1', factor=LEARNING_RATE_SCHEDULE_FACTOR, mode='max', patience=LEARNING_RATE_SCHEDULE_PATIENCE, min_lr=1e-8, verbose=1)\n",
        "callbacks = [mcp, rlr]"
      ],
      "execution_count": null,
      "outputs": []
    },
    {
      "cell_type": "code",
      "metadata": {
        "id": "DKEUhozG26e1",
        "outputId": "ad060790-5042-4233-8ef0-e895ce8e373a",
        "colab": {
          "base_uri": "https://localhost:8080/",
          "height": 34
        }
      },
      "source": [
        "mcp"
      ],
      "execution_count": null,
      "outputs": [
        {
          "output_type": "execute_result",
          "data": {
            "text/plain": [
              "<tensorflow.python.keras.callbacks.ModelCheckpoint at 0x7f3b70ffabe0>"
            ]
          },
          "metadata": {
            "tags": []
          },
          "execution_count": 36
        }
      ]
    },
    {
      "cell_type": "code",
      "metadata": {
        "id": "4w3v_swe2_qY",
        "outputId": "14cfeba3-35d0-458f-8efb-f9bfc9803ec4",
        "colab": {
          "base_uri": "https://localhost:8080/",
          "height": 34
        }
      },
      "source": [
        "rlr"
      ],
      "execution_count": null,
      "outputs": [
        {
          "output_type": "execute_result",
          "data": {
            "text/plain": [
              "<tensorflow.python.keras.callbacks.ReduceLROnPlateau at 0x7f3b70ffaba8>"
            ]
          },
          "metadata": {
            "tags": []
          },
          "execution_count": 37
        }
      ]
    },
    {
      "cell_type": "code",
      "metadata": {
        "id": "8X1VOngc3BHc",
        "outputId": "8d66b51e-4c62-4f83-92ff-59a3deb3e64b",
        "colab": {
          "base_uri": "https://localhost:8080/",
          "height": 50
        }
      },
      "source": [
        "callbacks"
      ],
      "execution_count": null,
      "outputs": [
        {
          "output_type": "execute_result",
          "data": {
            "text/plain": [
              "[<tensorflow.python.keras.callbacks.ModelCheckpoint at 0x7f3b70ffabe0>,\n",
              " <tensorflow.python.keras.callbacks.ReduceLROnPlateau at 0x7f3b70ffaba8>]"
            ]
          },
          "metadata": {
            "tags": []
          },
          "execution_count": 38
        }
      ]
    },
    {
      "cell_type": "markdown",
      "metadata": {
        "id": "yzLlNFw-Lmuv"
      },
      "source": [
        "## Training\n",
        "Fully training model\n"
      ]
    },
    {
      "cell_type": "code",
      "metadata": {
        "trusted": true,
        "id": "w2-DeQKSLmuw",
        "outputId": "03f07ec3-3307-4971-856f-e9bd1437550b",
        "colab": {
          "base_uri": "https://localhost:8080/",
          "height": 1000
        }
      },
      "source": [
        "device = '/gpu:0'\n",
        "\n",
        "with tf.device(device):\n",
        "    steps_per_epoch = train_gen.n // BATCH_SIZE\n",
        "    validation_steps = val_gen.n // BATCH_SIZE\n",
        "    \n",
        "    model.compile(optimizer=keras.optimizers.Adam(lr=LEARNING_RATE), loss='binary_crossentropy', metrics=[f1])\n",
        "\n",
        "    # Huấn luyện\n",
        "    history = model.fit_generator(train_gen,\n",
        "                                  steps_per_epoch=steps_per_epoch,\n",
        "                                  epochs=MAX_EPOCHS,\n",
        "                                  verbose=1,\n",
        "                                  validation_data=val_gen,\n",
        "                                  validation_steps=validation_steps,\n",
        "                                  callbacks=callbacks)"
      ],
      "execution_count": null,
      "outputs": [
        {
          "output_type": "stream",
          "text": [
            "/usr/local/lib/python3.6/dist-packages/keras_preprocessing/image/image_data_generator.py:720: UserWarning: This ImageDataGenerator specifies `featurewise_center`, but it hasn't been fit on any training data. Fit it first by calling `.fit(numpy_data)`.\n",
            "  warnings.warn('This ImageDataGenerator specifies '\n",
            "/usr/local/lib/python3.6/dist-packages/keras_preprocessing/image/image_data_generator.py:728: UserWarning: This ImageDataGenerator specifies `featurewise_std_normalization`, but it hasn't been fit on any training data. Fit it first by calling `.fit(numpy_data)`.\n",
            "  warnings.warn('This ImageDataGenerator specifies '\n"
          ],
          "name": "stderr"
        },
        {
          "output_type": "stream",
          "text": [
            "Epoch 1/100\n",
            "48/48 [==============================] - ETA: 0s - loss: 0.0601 - f1: 0.9421\n",
            "Epoch 00001: val_f1 did not improve from 0.83312\n",
            "48/48 [==============================] - 19s 393ms/step - loss: 0.0601 - f1: 0.9421 - val_loss: 0.5073 - val_f1: 0.6877\n",
            "Epoch 2/100\n",
            "48/48 [==============================] - ETA: 0s - loss: 0.0444 - f1: 0.9603\n",
            "Epoch 00002: val_f1 did not improve from 0.83312\n",
            "48/48 [==============================] - 17s 360ms/step - loss: 0.0444 - f1: 0.9603 - val_loss: 0.4929 - val_f1: 0.6586\n",
            "Epoch 3/100\n",
            "48/48 [==============================] - ETA: 0s - loss: 0.0297 - f1: 0.9760\n",
            "Epoch 00003: val_f1 did not improve from 0.83312\n",
            "48/48 [==============================] - 17s 360ms/step - loss: 0.0297 - f1: 0.9760 - val_loss: 0.3713 - val_f1: 0.7816\n",
            "Epoch 4/100\n",
            "48/48 [==============================] - ETA: 0s - loss: 0.0209 - f1: 0.9829\n",
            "Epoch 00004: val_f1 did not improve from 0.83312\n",
            "48/48 [==============================] - 17s 359ms/step - loss: 0.0209 - f1: 0.9829 - val_loss: 0.2902 - val_f1: 0.7896\n",
            "Epoch 5/100\n",
            "48/48 [==============================] - ETA: 0s - loss: 0.0455 - f1: 0.9590\n",
            "Epoch 00005: val_f1 did not improve from 0.83312\n",
            "48/48 [==============================] - 17s 360ms/step - loss: 0.0455 - f1: 0.9590 - val_loss: 0.4304 - val_f1: 0.6942\n",
            "Epoch 6/100\n",
            "48/48 [==============================] - ETA: 0s - loss: 0.0399 - f1: 0.9626\n",
            "Epoch 00006: val_f1 did not improve from 0.83312\n",
            "48/48 [==============================] - 17s 361ms/step - loss: 0.0399 - f1: 0.9626 - val_loss: 0.3666 - val_f1: 0.7797\n",
            "Epoch 7/100\n",
            "48/48 [==============================] - ETA: 0s - loss: 0.0250 - f1: 0.9800\n",
            "Epoch 00007: val_f1 did not improve from 0.83312\n",
            "48/48 [==============================] - 17s 361ms/step - loss: 0.0250 - f1: 0.9800 - val_loss: 0.4072 - val_f1: 0.7817\n",
            "Epoch 8/100\n",
            "48/48 [==============================] - ETA: 0s - loss: 0.0240 - f1: 0.9814\n",
            "Epoch 00008: val_f1 did not improve from 0.83312\n",
            "48/48 [==============================] - 17s 358ms/step - loss: 0.0240 - f1: 0.9814 - val_loss: 0.5929 - val_f1: 0.7102\n",
            "Epoch 9/100\n",
            "48/48 [==============================] - ETA: 0s - loss: 0.0180 - f1: 0.9858\n",
            "Epoch 00009: val_f1 did not improve from 0.83312\n",
            "\n",
            "Epoch 00009: ReduceLROnPlateau reducing learning rate to 0.00010000000474974513.\n",
            "48/48 [==============================] - 17s 358ms/step - loss: 0.0180 - f1: 0.9858 - val_loss: 0.3864 - val_f1: 0.7809\n",
            "Epoch 10/100\n",
            "48/48 [==============================] - ETA: 0s - loss: 0.0098 - f1: 0.9932\n",
            "Epoch 00010: val_f1 improved from 0.83312 to 0.85000, saving model to densenet121.h5\n",
            "48/48 [==============================] - 18s 366ms/step - loss: 0.0098 - f1: 0.9932 - val_loss: 0.2530 - val_f1: 0.8500\n",
            "Epoch 11/100\n",
            "48/48 [==============================] - ETA: 0s - loss: 0.0038 - f1: 0.9994\n",
            "Epoch 00011: val_f1 improved from 0.85000 to 0.86110, saving model to densenet121.h5\n",
            "48/48 [==============================] - 18s 367ms/step - loss: 0.0038 - f1: 0.9994 - val_loss: 0.2228 - val_f1: 0.8611\n",
            "Epoch 12/100\n",
            "48/48 [==============================] - ETA: 0s - loss: 0.0023 - f1: 0.9998\n",
            "Epoch 00012: val_f1 improved from 0.86110 to 0.86339, saving model to densenet121.h5\n",
            "48/48 [==============================] - 18s 368ms/step - loss: 0.0023 - f1: 0.9998 - val_loss: 0.2130 - val_f1: 0.8634\n",
            "Epoch 13/100\n",
            "48/48 [==============================] - ETA: 0s - loss: 0.0022 - f1: 0.9992\n",
            "Epoch 00013: val_f1 did not improve from 0.86339\n",
            "48/48 [==============================] - 17s 360ms/step - loss: 0.0022 - f1: 0.9992 - val_loss: 0.2068 - val_f1: 0.8623\n",
            "Epoch 14/100\n",
            "48/48 [==============================] - ETA: 0s - loss: 0.0017 - f1: 1.0000\n",
            "Epoch 00014: val_f1 improved from 0.86339 to 0.86928, saving model to densenet121.h5\n",
            "48/48 [==============================] - 18s 366ms/step - loss: 0.0017 - f1: 1.0000 - val_loss: 0.2022 - val_f1: 0.8693\n",
            "Epoch 15/100\n",
            "48/48 [==============================] - ETA: 0s - loss: 0.0017 - f1: 1.0000\n",
            "Epoch 00015: val_f1 improved from 0.86928 to 0.87221, saving model to densenet121.h5\n",
            "48/48 [==============================] - 18s 367ms/step - loss: 0.0017 - f1: 1.0000 - val_loss: 0.2010 - val_f1: 0.8722\n",
            "Epoch 16/100\n",
            "48/48 [==============================] - ETA: 0s - loss: 0.0015 - f1: 0.9999\n",
            "Epoch 00016: val_f1 did not improve from 0.87221\n",
            "48/48 [==============================] - 17s 360ms/step - loss: 0.0015 - f1: 0.9999 - val_loss: 0.2009 - val_f1: 0.8687\n",
            "Epoch 17/100\n",
            "48/48 [==============================] - ETA: 0s - loss: 0.0011 - f1: 1.0000\n",
            "Epoch 00017: val_f1 did not improve from 0.87221\n",
            "48/48 [==============================] - 17s 359ms/step - loss: 0.0011 - f1: 1.0000 - val_loss: 0.2022 - val_f1: 0.8688\n",
            "Epoch 18/100\n",
            "48/48 [==============================] - ETA: 0s - loss: 9.8754e-04 - f1: 1.0000\n",
            "Epoch 00018: val_f1 did not improve from 0.87221\n",
            "48/48 [==============================] - 17s 359ms/step - loss: 9.8754e-04 - f1: 1.0000 - val_loss: 0.2043 - val_f1: 0.8682\n",
            "Epoch 19/100\n",
            "48/48 [==============================] - ETA: 0s - loss: 9.1084e-04 - f1: 1.0000\n",
            "Epoch 00019: val_f1 did not improve from 0.87221\n",
            "48/48 [==============================] - 17s 361ms/step - loss: 9.1084e-04 - f1: 1.0000 - val_loss: 0.2048 - val_f1: 0.8692\n",
            "Epoch 20/100\n",
            "48/48 [==============================] - ETA: 0s - loss: 0.0010 - f1: 0.9999\n",
            "Epoch 00020: val_f1 did not improve from 0.87221\n",
            "\n",
            "Epoch 00020: ReduceLROnPlateau reducing learning rate to 1.0000000474974514e-05.\n",
            "48/48 [==============================] - 17s 359ms/step - loss: 0.0010 - f1: 0.9999 - val_loss: 0.2043 - val_f1: 0.8679\n",
            "Epoch 21/100\n",
            "48/48 [==============================] - ETA: 0s - loss: 7.9122e-04 - f1: 1.0000\n",
            "Epoch 00021: val_f1 did not improve from 0.87221\n",
            "48/48 [==============================] - 17s 359ms/step - loss: 7.9122e-04 - f1: 1.0000 - val_loss: 0.2054 - val_f1: 0.8667\n",
            "Epoch 22/100\n",
            "48/48 [==============================] - ETA: 0s - loss: 7.9492e-04 - f1: 1.0000\n",
            "Epoch 00022: val_f1 did not improve from 0.87221\n",
            "48/48 [==============================] - 17s 359ms/step - loss: 7.9492e-04 - f1: 1.0000 - val_loss: 0.2062 - val_f1: 0.8664\n",
            "Epoch 23/100\n",
            "48/48 [==============================] - ETA: 0s - loss: 8.7403e-04 - f1: 1.0000\n",
            "Epoch 00023: val_f1 did not improve from 0.87221\n",
            "48/48 [==============================] - 17s 358ms/step - loss: 8.7403e-04 - f1: 1.0000 - val_loss: 0.2065 - val_f1: 0.8677\n",
            "Epoch 24/100\n",
            "48/48 [==============================] - ETA: 0s - loss: 8.7387e-04 - f1: 1.0000\n",
            "Epoch 00024: val_f1 did not improve from 0.87221\n",
            "48/48 [==============================] - 17s 358ms/step - loss: 8.7387e-04 - f1: 1.0000 - val_loss: 0.2063 - val_f1: 0.8686\n",
            "Epoch 25/100\n",
            "48/48 [==============================] - ETA: 0s - loss: 9.8186e-04 - f1: 1.0000\n",
            "Epoch 00025: val_f1 did not improve from 0.87221\n",
            "\n",
            "Epoch 00025: ReduceLROnPlateau reducing learning rate to 1.0000000656873453e-06.\n",
            "48/48 [==============================] - 17s 359ms/step - loss: 9.8186e-04 - f1: 1.0000 - val_loss: 0.2070 - val_f1: 0.8682\n",
            "Epoch 26/100\n",
            "48/48 [==============================] - ETA: 0s - loss: 7.6557e-04 - f1: 1.0000\n",
            "Epoch 00026: val_f1 did not improve from 0.87221\n",
            "48/48 [==============================] - 17s 358ms/step - loss: 7.6557e-04 - f1: 1.0000 - val_loss: 0.2071 - val_f1: 0.8661\n",
            "Epoch 27/100\n",
            "48/48 [==============================] - ETA: 0s - loss: 7.6261e-04 - f1: 1.0000\n",
            "Epoch 00027: val_f1 did not improve from 0.87221\n",
            "48/48 [==============================] - 17s 360ms/step - loss: 7.6261e-04 - f1: 1.0000 - val_loss: 0.2070 - val_f1: 0.8674\n",
            "Epoch 28/100\n",
            "48/48 [==============================] - ETA: 0s - loss: 9.4063e-04 - f1: 0.9999\n",
            "Epoch 00028: val_f1 did not improve from 0.87221\n",
            "48/48 [==============================] - 17s 359ms/step - loss: 9.4063e-04 - f1: 0.9999 - val_loss: 0.2073 - val_f1: 0.8682\n",
            "Epoch 29/100\n",
            "48/48 [==============================] - ETA: 0s - loss: 7.8851e-04 - f1: 1.0000\n",
            "Epoch 00029: val_f1 did not improve from 0.87221\n",
            "48/48 [==============================] - 17s 359ms/step - loss: 7.8851e-04 - f1: 1.0000 - val_loss: 0.2072 - val_f1: 0.8674\n",
            "Epoch 30/100\n",
            "48/48 [==============================] - ETA: 0s - loss: 8.9007e-04 - f1: 1.0000\n",
            "Epoch 00030: val_f1 did not improve from 0.87221\n",
            "\n",
            "Epoch 00030: ReduceLROnPlateau reducing learning rate to 1.0000001111620805e-07.\n",
            "48/48 [==============================] - 17s 359ms/step - loss: 8.9007e-04 - f1: 1.0000 - val_loss: 0.2076 - val_f1: 0.8682\n",
            "Epoch 31/100\n",
            "48/48 [==============================] - ETA: 0s - loss: 8.1667e-04 - f1: 1.0000\n",
            "Epoch 00031: val_f1 did not improve from 0.87221\n",
            "48/48 [==============================] - 17s 359ms/step - loss: 8.1667e-04 - f1: 1.0000 - val_loss: 0.2077 - val_f1: 0.8682\n",
            "Epoch 32/100\n",
            "48/48 [==============================] - ETA: 0s - loss: 9.8391e-04 - f1: 0.9988\n",
            "Epoch 00032: val_f1 did not improve from 0.87221\n",
            "48/48 [==============================] - 17s 359ms/step - loss: 9.8391e-04 - f1: 0.9988 - val_loss: 0.2077 - val_f1: 0.8674\n",
            "Epoch 33/100\n",
            "48/48 [==============================] - ETA: 0s - loss: 0.0010 - f1: 0.9996\n",
            "Epoch 00033: val_f1 did not improve from 0.87221\n",
            "48/48 [==============================] - 17s 359ms/step - loss: 0.0010 - f1: 0.9996 - val_loss: 0.2075 - val_f1: 0.8682\n",
            "Epoch 34/100\n",
            "48/48 [==============================] - ETA: 0s - loss: 0.0011 - f1: 0.9993\n",
            "Epoch 00034: val_f1 did not improve from 0.87221\n",
            "48/48 [==============================] - 17s 359ms/step - loss: 0.0011 - f1: 0.9993 - val_loss: 0.2077 - val_f1: 0.8682\n",
            "Epoch 35/100\n",
            "48/48 [==============================] - ETA: 0s - loss: 7.8909e-04 - f1: 1.0000\n",
            "Epoch 00035: val_f1 did not improve from 0.87221\n",
            "\n",
            "Epoch 00035: ReduceLROnPlateau reducing learning rate to 1.000000082740371e-08.\n",
            "48/48 [==============================] - 17s 359ms/step - loss: 7.8909e-04 - f1: 1.0000 - val_loss: 0.2075 - val_f1: 0.8682\n",
            "Epoch 36/100\n",
            "48/48 [==============================] - ETA: 0s - loss: 7.9261e-04 - f1: 1.0000\n",
            "Epoch 00036: val_f1 did not improve from 0.87221\n",
            "48/48 [==============================] - 17s 360ms/step - loss: 7.9261e-04 - f1: 1.0000 - val_loss: 0.2075 - val_f1: 0.8682\n",
            "Epoch 37/100\n",
            "48/48 [==============================] - ETA: 0s - loss: 7.8768e-04 - f1: 1.0000\n",
            "Epoch 00037: val_f1 did not improve from 0.87221\n",
            "48/48 [==============================] - 17s 358ms/step - loss: 7.8768e-04 - f1: 1.0000 - val_loss: 0.2073 - val_f1: 0.8674\n",
            "Epoch 38/100\n",
            "48/48 [==============================] - ETA: 0s - loss: 8.2947e-04 - f1: 1.0000\n",
            "Epoch 00038: val_f1 did not improve from 0.87221\n",
            "48/48 [==============================] - 17s 358ms/step - loss: 8.2947e-04 - f1: 1.0000 - val_loss: 0.2075 - val_f1: 0.8682\n",
            "Epoch 39/100\n",
            "48/48 [==============================] - ETA: 0s - loss: 9.1494e-04 - f1: 1.0000\n",
            "Epoch 00039: val_f1 did not improve from 0.87221\n",
            "48/48 [==============================] - 17s 359ms/step - loss: 9.1494e-04 - f1: 1.0000 - val_loss: 0.2078 - val_f1: 0.8704\n",
            "Epoch 40/100\n",
            "48/48 [==============================] - ETA: 0s - loss: 9.0099e-04 - f1: 1.0000\n",
            "Epoch 00040: val_f1 did not improve from 0.87221\n",
            "\n",
            "Epoch 00040: ReduceLROnPlateau reducing learning rate to 1e-08.\n",
            "48/48 [==============================] - 17s 359ms/step - loss: 9.0099e-04 - f1: 1.0000 - val_loss: 0.2075 - val_f1: 0.8682\n",
            "Epoch 41/100\n",
            "48/48 [==============================] - ETA: 0s - loss: 6.6785e-04 - f1: 1.0000\n",
            "Epoch 00041: val_f1 did not improve from 0.87221\n",
            "48/48 [==============================] - 17s 359ms/step - loss: 6.6785e-04 - f1: 1.0000 - val_loss: 0.2076 - val_f1: 0.8695\n",
            "Epoch 42/100\n",
            "48/48 [==============================] - ETA: 0s - loss: 8.6840e-04 - f1: 1.0000\n",
            "Epoch 00042: val_f1 did not improve from 0.87221\n",
            "48/48 [==============================] - 17s 360ms/step - loss: 8.6840e-04 - f1: 1.0000 - val_loss: 0.2076 - val_f1: 0.8670\n",
            "Epoch 43/100\n",
            "48/48 [==============================] - ETA: 0s - loss: 9.0630e-04 - f1: 1.0000\n",
            "Epoch 00043: val_f1 did not improve from 0.87221\n",
            "48/48 [==============================] - 17s 359ms/step - loss: 9.0630e-04 - f1: 1.0000 - val_loss: 0.2075 - val_f1: 0.8682\n",
            "Epoch 44/100\n",
            "48/48 [==============================] - ETA: 0s - loss: 9.9972e-04 - f1: 0.9999\n",
            "Epoch 00044: val_f1 did not improve from 0.87221\n",
            "48/48 [==============================] - 17s 357ms/step - loss: 9.9972e-04 - f1: 0.9999 - val_loss: 0.2076 - val_f1: 0.8682\n",
            "Epoch 45/100\n",
            "48/48 [==============================] - ETA: 0s - loss: 8.8480e-04 - f1: 1.0000\n",
            "Epoch 00045: val_f1 did not improve from 0.87221\n",
            "48/48 [==============================] - 17s 360ms/step - loss: 8.8480e-04 - f1: 1.0000 - val_loss: 0.2073 - val_f1: 0.8682\n",
            "Epoch 46/100\n",
            "48/48 [==============================] - ETA: 0s - loss: 9.2439e-04 - f1: 0.9996\n",
            "Epoch 00046: val_f1 did not improve from 0.87221\n",
            "48/48 [==============================] - 17s 359ms/step - loss: 9.2439e-04 - f1: 0.9996 - val_loss: 0.2076 - val_f1: 0.8682\n",
            "Epoch 47/100\n",
            "48/48 [==============================] - ETA: 0s - loss: 0.0010 - f1: 0.9999\n",
            "Epoch 00047: val_f1 did not improve from 0.87221\n",
            "48/48 [==============================] - 17s 359ms/step - loss: 0.0010 - f1: 0.9999 - val_loss: 0.2078 - val_f1: 0.8682\n",
            "Epoch 48/100\n",
            "48/48 [==============================] - ETA: 0s - loss: 7.9677e-04 - f1: 1.0000\n",
            "Epoch 00048: val_f1 did not improve from 0.87221\n",
            "48/48 [==============================] - 17s 359ms/step - loss: 7.9677e-04 - f1: 1.0000 - val_loss: 0.2077 - val_f1: 0.8682\n",
            "Epoch 49/100\n",
            "48/48 [==============================] - ETA: 0s - loss: 8.9914e-04 - f1: 1.0000\n",
            "Epoch 00049: val_f1 did not improve from 0.87221\n",
            "48/48 [==============================] - 17s 358ms/step - loss: 8.9914e-04 - f1: 1.0000 - val_loss: 0.2076 - val_f1: 0.8682\n",
            "Epoch 50/100\n",
            "48/48 [==============================] - ETA: 0s - loss: 8.3170e-04 - f1: 1.0000\n",
            "Epoch 00050: val_f1 did not improve from 0.87221\n",
            "48/48 [==============================] - 17s 358ms/step - loss: 8.3170e-04 - f1: 1.0000 - val_loss: 0.2075 - val_f1: 0.8674\n",
            "Epoch 51/100\n",
            "48/48 [==============================] - ETA: 0s - loss: 9.2385e-04 - f1: 1.0000\n",
            "Epoch 00051: val_f1 did not improve from 0.87221\n",
            "48/48 [==============================] - 17s 359ms/step - loss: 9.2385e-04 - f1: 1.0000 - val_loss: 0.2075 - val_f1: 0.8683\n",
            "Epoch 52/100\n",
            "48/48 [==============================] - ETA: 0s - loss: 8.3247e-04 - f1: 1.0000\n",
            "Epoch 00052: val_f1 did not improve from 0.87221\n",
            "48/48 [==============================] - 17s 360ms/step - loss: 8.3247e-04 - f1: 1.0000 - val_loss: 0.2075 - val_f1: 0.8674\n",
            "Epoch 53/100\n",
            "48/48 [==============================] - ETA: 0s - loss: 8.8533e-04 - f1: 1.0000\n",
            "Epoch 00053: val_f1 did not improve from 0.87221\n",
            "48/48 [==============================] - 17s 359ms/step - loss: 8.8533e-04 - f1: 1.0000 - val_loss: 0.2076 - val_f1: 0.8674\n",
            "Epoch 54/100\n",
            "48/48 [==============================] - ETA: 0s - loss: 9.0562e-04 - f1: 1.0000\n",
            "Epoch 00054: val_f1 did not improve from 0.87221\n",
            "48/48 [==============================] - 17s 359ms/step - loss: 9.0562e-04 - f1: 1.0000 - val_loss: 0.2074 - val_f1: 0.8674\n",
            "Epoch 55/100\n",
            "48/48 [==============================] - ETA: 0s - loss: 9.0463e-04 - f1: 1.0000\n",
            "Epoch 00055: val_f1 did not improve from 0.87221\n",
            "48/48 [==============================] - 17s 359ms/step - loss: 9.0463e-04 - f1: 1.0000 - val_loss: 0.2077 - val_f1: 0.8674\n",
            "Epoch 56/100\n",
            "48/48 [==============================] - ETA: 0s - loss: 8.7807e-04 - f1: 1.0000\n",
            "Epoch 00056: val_f1 did not improve from 0.87221\n",
            "48/48 [==============================] - 17s 359ms/step - loss: 8.7807e-04 - f1: 1.0000 - val_loss: 0.2076 - val_f1: 0.8674\n",
            "Epoch 57/100\n",
            "48/48 [==============================] - ETA: 0s - loss: 8.3785e-04 - f1: 1.0000\n",
            "Epoch 00057: val_f1 did not improve from 0.87221\n",
            "48/48 [==============================] - 17s 358ms/step - loss: 8.3785e-04 - f1: 1.0000 - val_loss: 0.2072 - val_f1: 0.8674\n",
            "Epoch 58/100\n",
            "48/48 [==============================] - ETA: 0s - loss: 7.8102e-04 - f1: 1.0000\n",
            "Epoch 00058: val_f1 did not improve from 0.87221\n",
            "48/48 [==============================] - 17s 359ms/step - loss: 7.8102e-04 - f1: 1.0000 - val_loss: 0.2074 - val_f1: 0.8674\n",
            "Epoch 59/100\n",
            "48/48 [==============================] - ETA: 0s - loss: 8.4866e-04 - f1: 1.0000\n",
            "Epoch 00059: val_f1 did not improve from 0.87221\n",
            "48/48 [==============================] - 17s 359ms/step - loss: 8.4866e-04 - f1: 1.0000 - val_loss: 0.2076 - val_f1: 0.8674\n",
            "Epoch 60/100\n",
            "48/48 [==============================] - ETA: 0s - loss: 7.5668e-04 - f1: 1.0000\n",
            "Epoch 00060: val_f1 did not improve from 0.87221\n",
            "48/48 [==============================] - 17s 359ms/step - loss: 7.5668e-04 - f1: 1.0000 - val_loss: 0.2074 - val_f1: 0.8674\n",
            "Epoch 61/100\n",
            "48/48 [==============================] - ETA: 0s - loss: 8.9836e-04 - f1: 1.0000\n",
            "Epoch 00061: val_f1 did not improve from 0.87221\n",
            "48/48 [==============================] - 17s 359ms/step - loss: 8.9836e-04 - f1: 1.0000 - val_loss: 0.2073 - val_f1: 0.8674\n",
            "Epoch 62/100\n",
            "48/48 [==============================] - ETA: 0s - loss: 0.0013 - f1: 0.9994\n",
            "Epoch 00062: val_f1 did not improve from 0.87221\n",
            "48/48 [==============================] - 17s 359ms/step - loss: 0.0013 - f1: 0.9994 - val_loss: 0.2078 - val_f1: 0.8682\n",
            "Epoch 63/100\n",
            "48/48 [==============================] - ETA: 0s - loss: 9.7091e-04 - f1: 0.9991\n",
            "Epoch 00063: val_f1 did not improve from 0.87221\n",
            "48/48 [==============================] - 17s 358ms/step - loss: 9.7091e-04 - f1: 0.9991 - val_loss: 0.2078 - val_f1: 0.8682\n",
            "Epoch 64/100\n",
            "48/48 [==============================] - ETA: 0s - loss: 8.7756e-04 - f1: 1.0000\n",
            "Epoch 00064: val_f1 did not improve from 0.87221\n",
            "48/48 [==============================] - 17s 359ms/step - loss: 8.7756e-04 - f1: 1.0000 - val_loss: 0.2075 - val_f1: 0.8682\n",
            "Epoch 65/100\n",
            "48/48 [==============================] - ETA: 0s - loss: 9.9035e-04 - f1: 0.9993\n",
            "Epoch 00065: val_f1 did not improve from 0.87221\n",
            "48/48 [==============================] - 17s 359ms/step - loss: 9.9035e-04 - f1: 0.9993 - val_loss: 0.2075 - val_f1: 0.8674\n",
            "Epoch 66/100\n",
            "48/48 [==============================] - ETA: 0s - loss: 8.6304e-04 - f1: 1.0000\n",
            "Epoch 00066: val_f1 did not improve from 0.87221\n",
            "48/48 [==============================] - 17s 359ms/step - loss: 8.6304e-04 - f1: 1.0000 - val_loss: 0.2076 - val_f1: 0.8682\n",
            "Epoch 67/100\n",
            "48/48 [==============================] - ETA: 0s - loss: 9.3525e-04 - f1: 0.9990\n",
            "Epoch 00067: val_f1 did not improve from 0.87221\n",
            "48/48 [==============================] - 17s 358ms/step - loss: 9.3525e-04 - f1: 0.9990 - val_loss: 0.2077 - val_f1: 0.8661\n",
            "Epoch 68/100\n",
            "48/48 [==============================] - ETA: 0s - loss: 8.6630e-04 - f1: 1.0000\n",
            "Epoch 00068: val_f1 did not improve from 0.87221\n",
            "48/48 [==============================] - 17s 359ms/step - loss: 8.6630e-04 - f1: 1.0000 - val_loss: 0.2078 - val_f1: 0.8674\n",
            "Epoch 69/100\n",
            "48/48 [==============================] - ETA: 0s - loss: 6.9551e-04 - f1: 1.0000\n",
            "Epoch 00069: val_f1 did not improve from 0.87221\n",
            "48/48 [==============================] - 17s 364ms/step - loss: 6.9551e-04 - f1: 1.0000 - val_loss: 0.2074 - val_f1: 0.8674\n",
            "Epoch 70/100\n",
            "48/48 [==============================] - ETA: 0s - loss: 8.2454e-04 - f1: 1.0000\n",
            "Epoch 00070: val_f1 did not improve from 0.87221\n",
            "48/48 [==============================] - 17s 359ms/step - loss: 8.2454e-04 - f1: 1.0000 - val_loss: 0.2073 - val_f1: 0.8682\n",
            "Epoch 71/100\n",
            "48/48 [==============================] - ETA: 0s - loss: 0.0010 - f1: 0.9997\n",
            "Epoch 00071: val_f1 did not improve from 0.87221\n",
            "48/48 [==============================] - 17s 359ms/step - loss: 0.0010 - f1: 0.9997 - val_loss: 0.2072 - val_f1: 0.8674\n",
            "Epoch 72/100\n",
            "48/48 [==============================] - ETA: 0s - loss: 8.1538e-04 - f1: 1.0000\n",
            "Epoch 00072: val_f1 did not improve from 0.87221\n",
            "48/48 [==============================] - 17s 359ms/step - loss: 8.1538e-04 - f1: 1.0000 - val_loss: 0.2073 - val_f1: 0.8682\n",
            "Epoch 73/100\n",
            "48/48 [==============================] - ETA: 0s - loss: 7.3084e-04 - f1: 1.0000\n",
            "Epoch 00073: val_f1 did not improve from 0.87221\n",
            "48/48 [==============================] - 17s 359ms/step - loss: 7.3084e-04 - f1: 1.0000 - val_loss: 0.2073 - val_f1: 0.8682\n",
            "Epoch 74/100\n",
            "48/48 [==============================] - ETA: 0s - loss: 9.9008e-04 - f1: 1.0000\n",
            "Epoch 00074: val_f1 did not improve from 0.87221\n",
            "48/48 [==============================] - 17s 364ms/step - loss: 9.9008e-04 - f1: 1.0000 - val_loss: 0.2074 - val_f1: 0.8682\n",
            "Epoch 75/100\n",
            "48/48 [==============================] - ETA: 0s - loss: 8.3209e-04 - f1: 1.0000\n",
            "Epoch 00075: val_f1 did not improve from 0.87221\n",
            "48/48 [==============================] - 17s 359ms/step - loss: 8.3209e-04 - f1: 1.0000 - val_loss: 0.2074 - val_f1: 0.8674\n",
            "Epoch 76/100\n",
            "48/48 [==============================] - ETA: 0s - loss: 9.0711e-04 - f1: 0.9993\n",
            "Epoch 00076: val_f1 did not improve from 0.87221\n",
            "48/48 [==============================] - 17s 358ms/step - loss: 9.0711e-04 - f1: 0.9993 - val_loss: 0.2075 - val_f1: 0.8682\n",
            "Epoch 77/100\n",
            "48/48 [==============================] - ETA: 0s - loss: 0.0010 - f1: 0.9996\n",
            "Epoch 00077: val_f1 did not improve from 0.87221\n",
            "48/48 [==============================] - 17s 359ms/step - loss: 0.0010 - f1: 0.9996 - val_loss: 0.2072 - val_f1: 0.8674\n",
            "Epoch 78/100\n",
            "48/48 [==============================] - ETA: 0s - loss: 8.5296e-04 - f1: 1.0000\n",
            "Epoch 00078: val_f1 did not improve from 0.87221\n",
            "48/48 [==============================] - 17s 359ms/step - loss: 8.5296e-04 - f1: 1.0000 - val_loss: 0.2075 - val_f1: 0.8674\n",
            "Epoch 79/100\n",
            "48/48 [==============================] - ETA: 0s - loss: 9.0444e-04 - f1: 1.0000\n",
            "Epoch 00079: val_f1 did not improve from 0.87221\n",
            "48/48 [==============================] - 17s 359ms/step - loss: 9.0444e-04 - f1: 1.0000 - val_loss: 0.2074 - val_f1: 0.8674\n",
            "Epoch 80/100\n",
            "48/48 [==============================] - ETA: 0s - loss: 7.8711e-04 - f1: 1.0000\n",
            "Epoch 00080: val_f1 did not improve from 0.87221\n",
            "48/48 [==============================] - 17s 358ms/step - loss: 7.8711e-04 - f1: 1.0000 - val_loss: 0.2074 - val_f1: 0.8674\n",
            "Epoch 81/100\n",
            "48/48 [==============================] - ETA: 0s - loss: 7.8799e-04 - f1: 1.0000\n",
            "Epoch 00081: val_f1 did not improve from 0.87221\n",
            "48/48 [==============================] - 17s 360ms/step - loss: 7.8799e-04 - f1: 1.0000 - val_loss: 0.2073 - val_f1: 0.8674\n",
            "Epoch 82/100\n",
            "48/48 [==============================] - ETA: 0s - loss: 7.6973e-04 - f1: 1.0000\n",
            "Epoch 00082: val_f1 did not improve from 0.87221\n",
            "48/48 [==============================] - 17s 359ms/step - loss: 7.6973e-04 - f1: 1.0000 - val_loss: 0.2070 - val_f1: 0.8674\n",
            "Epoch 83/100\n",
            "48/48 [==============================] - ETA: 0s - loss: 8.5208e-04 - f1: 1.0000\n",
            "Epoch 00083: val_f1 did not improve from 0.87221\n",
            "48/48 [==============================] - 17s 359ms/step - loss: 8.5208e-04 - f1: 1.0000 - val_loss: 0.2070 - val_f1: 0.8674\n",
            "Epoch 84/100\n",
            "48/48 [==============================] - ETA: 0s - loss: 8.6956e-04 - f1: 1.0000\n",
            "Epoch 00084: val_f1 did not improve from 0.87221\n",
            "48/48 [==============================] - 17s 359ms/step - loss: 8.6956e-04 - f1: 1.0000 - val_loss: 0.2074 - val_f1: 0.8661\n",
            "Epoch 85/100\n",
            "48/48 [==============================] - ETA: 0s - loss: 8.0440e-04 - f1: 1.0000\n",
            "Epoch 00085: val_f1 did not improve from 0.87221\n",
            "48/48 [==============================] - 17s 360ms/step - loss: 8.0440e-04 - f1: 1.0000 - val_loss: 0.2073 - val_f1: 0.8674\n",
            "Epoch 86/100\n",
            "48/48 [==============================] - ETA: 0s - loss: 8.7128e-04 - f1: 1.0000\n",
            "Epoch 00086: val_f1 did not improve from 0.87221\n",
            "48/48 [==============================] - 17s 360ms/step - loss: 8.7128e-04 - f1: 1.0000 - val_loss: 0.2071 - val_f1: 0.8674\n",
            "Epoch 87/100\n",
            "48/48 [==============================] - ETA: 0s - loss: 9.5483e-04 - f1: 0.9996\n",
            "Epoch 00087: val_f1 did not improve from 0.87221\n",
            "48/48 [==============================] - 17s 359ms/step - loss: 9.5483e-04 - f1: 0.9996 - val_loss: 0.2074 - val_f1: 0.8661\n",
            "Epoch 88/100\n",
            "48/48 [==============================] - ETA: 0s - loss: 7.7522e-04 - f1: 1.0000\n",
            "Epoch 00088: val_f1 did not improve from 0.87221\n",
            "48/48 [==============================] - 17s 359ms/step - loss: 7.7522e-04 - f1: 1.0000 - val_loss: 0.2074 - val_f1: 0.8674\n",
            "Epoch 89/100\n",
            "48/48 [==============================] - ETA: 0s - loss: 8.8091e-04 - f1: 1.0000\n",
            "Epoch 00089: val_f1 did not improve from 0.87221\n",
            "48/48 [==============================] - 17s 358ms/step - loss: 8.8091e-04 - f1: 1.0000 - val_loss: 0.2075 - val_f1: 0.8661\n",
            "Epoch 90/100\n",
            "48/48 [==============================] - ETA: 0s - loss: 0.0010 - f1: 0.9996    \n",
            "Epoch 00090: val_f1 did not improve from 0.87221\n",
            "48/48 [==============================] - 17s 358ms/step - loss: 0.0010 - f1: 0.9996 - val_loss: 0.2073 - val_f1: 0.8661\n",
            "Epoch 91/100\n",
            "48/48 [==============================] - ETA: 0s - loss: 7.4449e-04 - f1: 1.0000\n",
            "Epoch 00091: val_f1 did not improve from 0.87221\n",
            "48/48 [==============================] - 17s 358ms/step - loss: 7.4449e-04 - f1: 1.0000 - val_loss: 0.2076 - val_f1: 0.8674\n",
            "Epoch 92/100\n",
            "48/48 [==============================] - ETA: 0s - loss: 8.6547e-04 - f1: 1.0000\n",
            "Epoch 00092: val_f1 did not improve from 0.87221\n",
            "48/48 [==============================] - 17s 358ms/step - loss: 8.6547e-04 - f1: 1.0000 - val_loss: 0.2076 - val_f1: 0.8674\n",
            "Epoch 93/100\n",
            "48/48 [==============================] - ETA: 0s - loss: 7.7255e-04 - f1: 1.0000\n",
            "Epoch 00093: val_f1 did not improve from 0.87221\n",
            "48/48 [==============================] - 17s 359ms/step - loss: 7.7255e-04 - f1: 1.0000 - val_loss: 0.2074 - val_f1: 0.8674\n",
            "Epoch 94/100\n",
            "48/48 [==============================] - ETA: 0s - loss: 8.5060e-04 - f1: 1.0000\n",
            "Epoch 00094: val_f1 did not improve from 0.87221\n",
            "48/48 [==============================] - 17s 359ms/step - loss: 8.5060e-04 - f1: 1.0000 - val_loss: 0.2072 - val_f1: 0.8674\n",
            "Epoch 95/100\n",
            "48/48 [==============================] - ETA: 0s - loss: 8.2871e-04 - f1: 1.0000\n",
            "Epoch 00095: val_f1 did not improve from 0.87221\n",
            "48/48 [==============================] - 17s 359ms/step - loss: 8.2871e-04 - f1: 1.0000 - val_loss: 0.2073 - val_f1: 0.8674\n",
            "Epoch 96/100\n",
            "48/48 [==============================] - ETA: 0s - loss: 8.1361e-04 - f1: 1.0000\n",
            "Epoch 00096: val_f1 did not improve from 0.87221\n",
            "48/48 [==============================] - 17s 361ms/step - loss: 8.1361e-04 - f1: 1.0000 - val_loss: 0.2073 - val_f1: 0.8674\n",
            "Epoch 97/100\n",
            "48/48 [==============================] - ETA: 0s - loss: 7.9461e-04 - f1: 1.0000\n",
            "Epoch 00097: val_f1 did not improve from 0.87221\n",
            "48/48 [==============================] - 17s 359ms/step - loss: 7.9461e-04 - f1: 1.0000 - val_loss: 0.2070 - val_f1: 0.8674\n",
            "Epoch 98/100\n",
            "48/48 [==============================] - ETA: 0s - loss: 7.6961e-04 - f1: 1.0000\n",
            "Epoch 00098: val_f1 did not improve from 0.87221\n",
            "48/48 [==============================] - 17s 358ms/step - loss: 7.6961e-04 - f1: 1.0000 - val_loss: 0.2069 - val_f1: 0.8674\n",
            "Epoch 99/100\n",
            "48/48 [==============================] - ETA: 0s - loss: 8.5851e-04 - f1: 1.0000\n",
            "Epoch 00099: val_f1 did not improve from 0.87221\n",
            "48/48 [==============================] - 17s 360ms/step - loss: 8.5851e-04 - f1: 1.0000 - val_loss: 0.2070 - val_f1: 0.8674\n",
            "Epoch 100/100\n",
            "48/48 [==============================] - ETA: 0s - loss: 8.5449e-04 - f1: 1.0000\n",
            "Epoch 00100: val_f1 did not improve from 0.87221\n",
            "48/48 [==============================] - 17s 359ms/step - loss: 8.5449e-04 - f1: 1.0000 - val_loss: 0.2073 - val_f1: 0.8674\n"
          ],
          "name": "stdout"
        }
      ]
    },
    {
      "cell_type": "markdown",
      "metadata": {
        "id": "8xVcc8r_Lmux"
      },
      "source": [
        "#Step 05: Inference"
      ]
    },
    {
      "cell_type": "markdown",
      "metadata": {
        "id": "PLK-IlbOLmuy"
      },
      "source": [
        "##Read the test data"
      ]
    },
    {
      "cell_type": "code",
      "metadata": {
        "trusted": true,
        "id": "D7FXlZ3TLmuy",
        "outputId": "f6895a0b-af78-4342-f512-9bfede3d4760",
        "colab": {
          "base_uri": "https://localhost:8080/",
          "height": 195
        }
      },
      "source": [
        "test_df = pd.read_csv(\"retina_dataset/sample_submission.csv\")\n",
        "test_df.head()"
      ],
      "execution_count": null,
      "outputs": [
        {
          "output_type": "execute_result",
          "data": {
            "text/html": [
              "<div>\n",
              "<style scoped>\n",
              "    .dataframe tbody tr th:only-of-type {\n",
              "        vertical-align: middle;\n",
              "    }\n",
              "\n",
              "    .dataframe tbody tr th {\n",
              "        vertical-align: top;\n",
              "    }\n",
              "\n",
              "    .dataframe thead th {\n",
              "        text-align: right;\n",
              "    }\n",
              "</style>\n",
              "<table border=\"1\" class=\"dataframe\">\n",
              "  <thead>\n",
              "    <tr style=\"text-align: right;\">\n",
              "      <th></th>\n",
              "      <th>filename</th>\n",
              "      <th>predicted</th>\n",
              "    </tr>\n",
              "  </thead>\n",
              "  <tbody>\n",
              "    <tr>\n",
              "      <th>0</th>\n",
              "      <td>e742d34a26d4.jpg</td>\n",
              "      <td>0 0</td>\n",
              "    </tr>\n",
              "    <tr>\n",
              "      <th>1</th>\n",
              "      <td>b193b6a6d68d.jpg</td>\n",
              "      <td>0 0</td>\n",
              "    </tr>\n",
              "    <tr>\n",
              "      <th>2</th>\n",
              "      <td>07e4191fa3a8.jpg</td>\n",
              "      <td>0 0</td>\n",
              "    </tr>\n",
              "    <tr>\n",
              "      <th>3</th>\n",
              "      <td>b1a911cb2e6c.jpg</td>\n",
              "      <td>0 0</td>\n",
              "    </tr>\n",
              "    <tr>\n",
              "      <th>4</th>\n",
              "      <td>d8ab9cda1b33.jpg</td>\n",
              "      <td>0 0</td>\n",
              "    </tr>\n",
              "  </tbody>\n",
              "</table>\n",
              "</div>"
            ],
            "text/plain": [
              "           filename predicted\n",
              "0  e742d34a26d4.jpg       0 0\n",
              "1  b193b6a6d68d.jpg       0 0\n",
              "2  07e4191fa3a8.jpg       0 0\n",
              "3  b1a911cb2e6c.jpg       0 0\n",
              "4  d8ab9cda1b33.jpg       0 0"
            ]
          },
          "metadata": {
            "tags": []
          },
          "execution_count": 62
        }
      ]
    },
    {
      "cell_type": "markdown",
      "metadata": {
        "id": "p0rH97YnLmu2"
      },
      "source": [
        "## Create test data generator"
      ]
    },
    {
      "cell_type": "code",
      "metadata": {
        "trusted": true,
        "id": "lhU2qJiwLmu2",
        "outputId": "4171c010-68b7-4dd6-d17f-adf4994590e2",
        "colab": {
          "base_uri": "https://localhost:8080/",
          "height": 34
        }
      },
      "source": [
        "test_gen = train_datagen.flow_from_dataframe(dataframe=test_df,\n",
        "                                             directory=\"/content/retina_dataset/test/test\",\n",
        "                                             x_col=\"filename\",\n",
        "                                             class_mode=None,\n",
        "                                             shuffle=False,\n",
        "                                             target_size=(IMAGE_SIZE,IMAGE_SIZE),\n",
        "                                             batch_size=BATCH_SIZE)"
      ],
      "execution_count": null,
      "outputs": [
        {
          "output_type": "stream",
          "text": [
            "Found 350 validated image filenames.\n"
          ],
          "name": "stdout"
        }
      ]
    },
    {
      "cell_type": "code",
      "metadata": {
        "id": "c7AtHonT8MbE",
        "outputId": "6ac02317-0846-43c9-b919-1f9fac5148d9",
        "colab": {
          "base_uri": "https://localhost:8080/",
          "height": 34
        }
      },
      "source": [
        "test_gen"
      ],
      "execution_count": null,
      "outputs": [
        {
          "output_type": "execute_result",
          "data": {
            "text/plain": [
              "<tensorflow.python.keras.preprocessing.image.DataFrameIterator at 0x7f3b66bf9ba8>"
            ]
          },
          "metadata": {
            "tags": []
          },
          "execution_count": 64
        }
      ]
    },
    {
      "cell_type": "markdown",
      "metadata": {
        "id": "3lX7BhDTLmu5"
      },
      "source": [
        "## Load best model weights and switch to evaluation mode"
      ]
    },
    {
      "cell_type": "code",
      "metadata": {
        "trusted": true,
        "id": "kYIaB_RfLmu7"
      },
      "source": [
        "model.load_weights(\"densenet121.h5\")"
      ],
      "execution_count": null,
      "outputs": []
    },
    {
      "cell_type": "markdown",
      "metadata": {
        "id": "EsXWvg6CLmu9"
      },
      "source": [
        "##Predict test images"
      ]
    },
    {
      "cell_type": "code",
      "metadata": {
        "trusted": true,
        "id": "eNmzSZlYLmu-",
        "outputId": "4be1c8fc-3dd8-4a02-83e5-edaf7b2e2b67",
        "colab": {
          "base_uri": "https://localhost:8080/",
          "height": 104
        }
      },
      "source": [
        "pred = model.predict_generator(test_gen)"
      ],
      "execution_count": null,
      "outputs": [
        {
          "output_type": "stream",
          "text": [
            "/usr/local/lib/python3.6/dist-packages/keras_preprocessing/image/image_data_generator.py:720: UserWarning: This ImageDataGenerator specifies `featurewise_center`, but it hasn't been fit on any training data. Fit it first by calling `.fit(numpy_data)`.\n",
            "  warnings.warn('This ImageDataGenerator specifies '\n",
            "/usr/local/lib/python3.6/dist-packages/keras_preprocessing/image/image_data_generator.py:728: UserWarning: This ImageDataGenerator specifies `featurewise_std_normalization`, but it hasn't been fit on any training data. Fit it first by calling `.fit(numpy_data)`.\n",
            "  warnings.warn('This ImageDataGenerator specifies '\n"
          ],
          "name": "stderr"
        }
      ]
    },
    {
      "cell_type": "code",
      "metadata": {
        "id": "A1rcbNsWParw"
      },
      "source": [
        "labels = (train_gen.class_indices)\n",
        "labels = dict((v,k) for k,v in labels.items())\n",
        "labels\n",
        "LABELS = list(LABELS)\n",
        "\n",
        "def probs2label(probs):\n",
        "    ''' Return real index following LABELS\n",
        "    '''\n",
        "    global LABELS, labels\n",
        "    return \" \".join([str(LABELS.index(labels[idx])) for idx, prob in enumerate(probs) if prob > 0.5])"
      ],
      "execution_count": null,
      "outputs": []
    },
    {
      "cell_type": "code",
      "metadata": {
        "id": "DC6tET2uRuDk"
      },
      "source": [
        "#test_df['predicted'] = np.apply_along_axis(probs2label, 1, pred)\n",
        "for idx, row in test_df.iterrows():\n",
        "    test_df.loc[idx]['predicted'] = probs2label(pred[idx])"
      ],
      "execution_count": null,
      "outputs": []
    },
    {
      "cell_type": "markdown",
      "metadata": {
        "id": "hONHxoruLmvA"
      },
      "source": [
        "##Write result to submission file"
      ]
    },
    {
      "cell_type": "code",
      "metadata": {
        "trusted": true,
        "id": "wSFhXc-aLmvB"
      },
      "source": [
        "test_df.to_csv(\"submission.csv\", index=False)"
      ],
      "execution_count": null,
      "outputs": []
    },
    {
      "cell_type": "code",
      "metadata": {
        "id": "rrYlWj2pYR2x",
        "outputId": "69fb600d-d449-4a8d-e7f8-d0bd0b49bcf4",
        "colab": {
          "base_uri": "https://localhost:8080/",
          "height": 195
        }
      },
      "source": [
        "test_df.head()"
      ],
      "execution_count": null,
      "outputs": [
        {
          "output_type": "execute_result",
          "data": {
            "text/html": [
              "<div>\n",
              "<style scoped>\n",
              "    .dataframe tbody tr th:only-of-type {\n",
              "        vertical-align: middle;\n",
              "    }\n",
              "\n",
              "    .dataframe tbody tr th {\n",
              "        vertical-align: top;\n",
              "    }\n",
              "\n",
              "    .dataframe thead th {\n",
              "        text-align: right;\n",
              "    }\n",
              "</style>\n",
              "<table border=\"1\" class=\"dataframe\">\n",
              "  <thead>\n",
              "    <tr style=\"text-align: right;\">\n",
              "      <th></th>\n",
              "      <th>filename</th>\n",
              "      <th>predicted</th>\n",
              "    </tr>\n",
              "  </thead>\n",
              "  <tbody>\n",
              "    <tr>\n",
              "      <th>0</th>\n",
              "      <td>e742d34a26d4.jpg</td>\n",
              "      <td>6</td>\n",
              "    </tr>\n",
              "    <tr>\n",
              "      <th>1</th>\n",
              "      <td>b193b6a6d68d.jpg</td>\n",
              "      <td>4 0</td>\n",
              "    </tr>\n",
              "    <tr>\n",
              "      <th>2</th>\n",
              "      <td>07e4191fa3a8.jpg</td>\n",
              "      <td>0</td>\n",
              "    </tr>\n",
              "    <tr>\n",
              "      <th>3</th>\n",
              "      <td>b1a911cb2e6c.jpg</td>\n",
              "      <td>0</td>\n",
              "    </tr>\n",
              "    <tr>\n",
              "      <th>4</th>\n",
              "      <td>d8ab9cda1b33.jpg</td>\n",
              "      <td>2 0</td>\n",
              "    </tr>\n",
              "  </tbody>\n",
              "</table>\n",
              "</div>"
            ],
            "text/plain": [
              "           filename predicted\n",
              "0  e742d34a26d4.jpg         6\n",
              "1  b193b6a6d68d.jpg       4 0\n",
              "2  07e4191fa3a8.jpg         0\n",
              "3  b1a911cb2e6c.jpg         0\n",
              "4  d8ab9cda1b33.jpg       2 0"
            ]
          },
          "metadata": {
            "tags": []
          },
          "execution_count": 70
        }
      ]
    },
    {
      "cell_type": "code",
      "metadata": {
        "id": "teBDZAQmbJi3",
        "outputId": "dc6edb56-ae80-4654-c8ee-b3d9c0f7cd2f",
        "colab": {
          "base_uri": "https://localhost:8080/",
          "height": 235
        }
      },
      "source": [
        "pred"
      ],
      "execution_count": null,
      "outputs": [
        {
          "output_type": "execute_result",
          "data": {
            "text/plain": [
              "array([[1.05470890e-05, 5.01346267e-06, 1.46502189e-05, ...,\n",
              "        9.99997497e-01, 1.39879569e-06, 2.06806963e-05],\n",
              "       [4.80155213e-05, 4.54367364e-06, 9.99968171e-01, ...,\n",
              "        1.04410454e-07, 9.99573886e-01, 1.66785844e-06],\n",
              "       [6.43256903e-02, 2.02186078e-01, 1.92150511e-02, ...,\n",
              "        2.80124405e-05, 9.45534408e-01, 2.22648750e-03],\n",
              "       ...,\n",
              "       [9.99870062e-01, 1.87863479e-03, 2.42830603e-04, ...,\n",
              "        1.80144081e-04, 4.75725741e-04, 8.40484972e-06],\n",
              "       [9.78548706e-01, 8.09575024e-04, 1.40595250e-03, ...,\n",
              "        7.27920487e-05, 9.99025226e-01, 1.90808438e-04],\n",
              "       [7.19773292e-04, 9.99997258e-01, 8.40763187e-06, ...,\n",
              "        1.45797537e-06, 7.59490104e-06, 4.82222913e-06]], dtype=float32)"
            ]
          },
          "metadata": {
            "tags": []
          },
          "execution_count": 71
        }
      ]
    },
    {
      "cell_type": "code",
      "metadata": {
        "id": "KCi27itudALK",
        "outputId": "f6f4099f-682c-4952-f25b-6e589e49b24b",
        "colab": {
          "base_uri": "https://localhost:8080/",
          "height": 134
        }
      },
      "source": [
        "train_gen.class_indices"
      ],
      "execution_count": null,
      "outputs": [
        {
          "output_type": "execute_result",
          "data": {
            "text/plain": [
              "{'diabetic retinopathy': 0,\n",
              " 'glaucoma': 1,\n",
              " 'macular degeneration': 2,\n",
              " 'macular edema': 3,\n",
              " 'normal': 4,\n",
              " 'opacity': 5,\n",
              " 'retinal vascular occlusion': 6}"
            ]
          },
          "metadata": {
            "tags": []
          },
          "execution_count": 72
        }
      ]
    }
  ]
}